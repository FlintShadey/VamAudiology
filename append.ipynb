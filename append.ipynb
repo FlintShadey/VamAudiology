{
 "cells": [
  {
   "cell_type": "code",
   "execution_count": null,
   "metadata": {},
   "outputs": [],
   "source": [
    "import sqlite3\n",
    "import csv"
   ]
  },
  {
   "cell_type": "code",
   "execution_count": null,
   "metadata": {},
   "outputs": [],
   "source": [
    "\n",
    "# # Connect to the SQLite database\n",
    "conn = sqlite3.connect('audiology_data.db')\n",
    "cursor = conn.cursor()\n",
    "\n",
    "# Rename the existing table\n",
    "cursor.execute(\"ALTER TABLE audiology_data RENAME TO temp_audiology_data;\")\n",
    "\n",
    "# %%\n",
    "# Create a new table without the UNIQUE constraint on data_id\n",
    "cursor.execute('''\n",
    "    CREATE TABLE IF NOT EXISTS audiology_data(\n",
    "        data_id INTEGER,\n",
    "        last_name TEXT,\n",
    "        first_name TEXT,\n",
    "        date_of_test TEXT,\n",
    "        side TEXT,\n",
    "        \"500\" INTEGER,\n",
    "        \"1K\" INTEGER,\n",
    "        \"2K\" INTEGER,\n",
    "        \"3K\" INTEGER,\n",
    "        \"4K\" INTEGER,\n",
    "        \"6K\" INTEGER,\n",
    "        \"8K\" INTEGER)\n",
    "''')\n"
   ]
  },
  {
   "cell_type": "code",
   "execution_count": null,
   "metadata": {},
   "outputs": [],
   "source": [
    "# Copy the data from the old table to the new table\n",
    "cursor.execute(\"INSERT INTO audiology_data SELECT * FROM temp_audiology_data;\")\n",
    "\n",
    "# Drop the old table\n",
    "cursor.execute(\"DROP TABLE temp_audiology_data;\")\n",
    "\n",
    "# Commit the changes\n",
    "conn.commit()\n",
    "\n",
    "# # Close the connection\n",
    "# conn.close()\n",
    "\n",
    "# Ask the user for the data_id they want to assign\n",
    "data_id = input(\"What data_id should I assign? \")"
   ]
  },
  {
   "cell_type": "code",
   "execution_count": null,
   "metadata": {},
   "outputs": [],
   "source": [
    "# Open the CSV file and read its contents\n",
    "with open('captured_data.csv', 'r') as file:\n",
    "    reader = csv.reader(file)\n",
    "    \n",
    "    # Insert rows from CSV into the database\n",
    "    for row in reader:\n",
    "        # Insert the provided data_id at the beginning of each row\n",
    "        row.insert(0, data_id)\n",
    "        cursor.execute('''\n",
    "            INSERT INTO audiology_data (\n",
    "                data_id, last_name, first_name, date_of_test, side, \n",
    "                \"500\", \"1K\", \"2K\", \"3K\", \"4K\", \"6K\", \"8K\"\n",
    "            ) VALUES (?, ?, ?, ?, ?, ?, ?, ?, ?, ?, ?, ?)\n",
    "        ''', row)\n",
    "\n",
    "# Commit the changes and close the connection\n",
    "conn.commit()\n",
    "conn.close()"
   ]
  }
 ],
 "metadata": {
  "kernelspec": {
   "display_name": "Python 3",
   "language": "python",
   "name": "python3"
  },
  "language_info": {
   "name": "python",
   "version": "3.11.4"
  },
  "orig_nbformat": 4
 },
 "nbformat": 4,
 "nbformat_minor": 2
}
