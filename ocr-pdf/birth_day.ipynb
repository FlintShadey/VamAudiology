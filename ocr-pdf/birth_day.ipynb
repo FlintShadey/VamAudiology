{
 "cells": [
  {
   "cell_type": "code",
   "execution_count": null,
   "metadata": {},
   "outputs": [],
   "source": [
    "'''\n",
    "This is just the section to eliminate the new lines from the output\n",
    " '''\n",
    "\n",
    " # Your input string with empty new lines\n",
    "input_str = \"\"\"Berlanga, Victor\n",
    "\n",
    "Berlanga Jr, VictorM.\n",
    "\n",
    "Broussard, Joseph\n",
    "\n",
    "Burrows, Ronnie.\n",
    "\n",
    "Campbell, Cory\n",
    "Cantu, Cristian.\n",
    "Carranza, Ever\n",
    "\n",
    "Castillo, Adrian\n",
    "\n",
    "Castillo, Rey\"\"\"\n",
    "\n",
    "# Split the string by new lines\n",
    "lines = input_str.split(\"\\n\")\n",
    "\n",
    "# Filter out empty lines\n",
    "filtered_lines = [line for line in lines if line.strip()]\n",
    "\n",
    "# Join the filtered lines back into a single string\n",
    "output_str = \"\\n\".join(filtered_lines)\n",
    "\n",
    "# Print the output\n",
    "print(output_str)\n"
   ]
  }
 ],
 "metadata": {
  "language_info": {
   "name": "python"
  },
  "orig_nbformat": 4
 },
 "nbformat": 4,
 "nbformat_minor": 2
}
